{
 "cells": [
  {
   "cell_type": "code",
   "execution_count": 1,
   "id": "97d62693",
   "metadata": {},
   "outputs": [],
   "source": [
    "import pandas as pd\n",
    "import numpy as np\n",
    "\n",
    "import matplotlib.pyplot as plt\n",
    "import seaborn as sns\n",
    "color = sns.color_palette()\n",
    "\n",
    "%matplotlib inline"
   ]
  },
  {
   "cell_type": "code",
   "execution_count": 2,
   "id": "52752458",
   "metadata": {},
   "outputs": [],
   "source": [
    "from statsmodels.tsa.ar_model import AutoReg\n",
    "from statsmodels.tsa.arima.model import ARIMA\n",
    "from statsmodels.tsa.statespace.sarimax import SARIMAX\n",
    "from statsmodels.tsa.vector_ar.var_model import VAR\n",
    "from statsmodels.tsa.statespace.varmax import VARMAX\n",
    "from statsmodels.tsa.holtwinters import SimpleExpSmoothing\n",
    "from pandas.plotting import autocorrelation_plot\n",
    "import warnings\n",
    "warnings.filterwarnings('ignore')\n",
    "\n",
    "# Imputing with KNNImputer\n",
    "from sklearn.impute import KNNImputer"
   ]
  },
  {
   "cell_type": "code",
   "execution_count": 27,
   "id": "67929d20",
   "metadata": {},
   "outputs": [
    {
     "data": {
      "text/html": [
       "<div>\n",
       "<style scoped>\n",
       "    .dataframe tbody tr th:only-of-type {\n",
       "        vertical-align: middle;\n",
       "    }\n",
       "\n",
       "    .dataframe tbody tr th {\n",
       "        vertical-align: top;\n",
       "    }\n",
       "\n",
       "    .dataframe thead th {\n",
       "        text-align: right;\n",
       "    }\n",
       "</style>\n",
       "<table border=\"1\" class=\"dataframe\">\n",
       "  <thead>\n",
       "    <tr style=\"text-align: right;\">\n",
       "      <th></th>\n",
       "      <th>date</th>\n",
       "      <th>value</th>\n",
       "    </tr>\n",
       "  </thead>\n",
       "  <tbody>\n",
       "    <tr>\n",
       "      <th>731</th>\n",
       "      <td>2022-05-31</td>\n",
       "      <td>31183.7</td>\n",
       "    </tr>\n",
       "    <tr>\n",
       "      <th>732</th>\n",
       "      <td>2022-06-01</td>\n",
       "      <td>29328.6</td>\n",
       "    </tr>\n",
       "    <tr>\n",
       "      <th>733</th>\n",
       "      <td>2022-06-02</td>\n",
       "      <td>29572.8</td>\n",
       "    </tr>\n",
       "    <tr>\n",
       "      <th>734</th>\n",
       "      <td>2022-06-03</td>\n",
       "      <td>29255.0</td>\n",
       "    </tr>\n",
       "    <tr>\n",
       "      <th>735</th>\n",
       "      <td>2022-06-04</td>\n",
       "      <td>29450.1</td>\n",
       "    </tr>\n",
       "    <tr>\n",
       "      <th>...</th>\n",
       "      <td>...</td>\n",
       "      <td>...</td>\n",
       "    </tr>\n",
       "    <tr>\n",
       "      <th>1091</th>\n",
       "      <td>2023-05-26</td>\n",
       "      <td>26338.0</td>\n",
       "    </tr>\n",
       "    <tr>\n",
       "      <th>1092</th>\n",
       "      <td>2023-05-27</td>\n",
       "      <td>26554.8</td>\n",
       "    </tr>\n",
       "    <tr>\n",
       "      <th>1093</th>\n",
       "      <td>2023-05-28</td>\n",
       "      <td>26788.7</td>\n",
       "    </tr>\n",
       "    <tr>\n",
       "      <th>1094</th>\n",
       "      <td>2023-05-29</td>\n",
       "      <td>27550.0</td>\n",
       "    </tr>\n",
       "    <tr>\n",
       "      <th>1095</th>\n",
       "      <td>2023-05-30</td>\n",
       "      <td>27559.8</td>\n",
       "    </tr>\n",
       "  </tbody>\n",
       "</table>\n",
       "<p>365 rows × 2 columns</p>\n",
       "</div>"
      ],
      "text/plain": [
       "           date    value\n",
       "731  2022-05-31  31183.7\n",
       "732  2022-06-01  29328.6\n",
       "733  2022-06-02  29572.8\n",
       "734  2022-06-03  29255.0\n",
       "735  2022-06-04  29450.1\n",
       "...         ...      ...\n",
       "1091 2023-05-26  26338.0\n",
       "1092 2023-05-27  26554.8\n",
       "1093 2023-05-28  26788.7\n",
       "1094 2023-05-29  27550.0\n",
       "1095 2023-05-30  27559.8\n",
       "\n",
       "[365 rows x 2 columns]"
      ]
     },
     "execution_count": 27,
     "metadata": {},
     "output_type": "execute_result"
    }
   ],
   "source": [
    "df = pd.read_csv('home_date_miss_values.csv', sep=';')\n",
    "df['date'] = pd.to_datetime(df['date'])\n",
    "df = df[df.date > pd.to_datetime('2022-05-30')]\n",
    "df"
   ]
  },
  {
   "cell_type": "markdown",
   "id": "b17c9620",
   "metadata": {},
   "source": [
    "# EDA"
   ]
  },
  {
   "cell_type": "code",
   "execution_count": 28,
   "id": "85526012",
   "metadata": {},
   "outputs": [
    {
     "name": "stdout",
     "output_type": "stream",
     "text": [
      "<class 'pandas.core.frame.DataFrame'>\n",
      "Int64Index: 365 entries, 731 to 1095\n",
      "Data columns (total 2 columns):\n",
      " #   Column  Non-Null Count  Dtype         \n",
      "---  ------  --------------  -----         \n",
      " 0   date    365 non-null    datetime64[ns]\n",
      " 1   value   353 non-null    float64       \n",
      "dtypes: datetime64[ns](1), float64(1)\n",
      "memory usage: 8.6 KB\n"
     ]
    }
   ],
   "source": [
    "df.info()"
   ]
  },
  {
   "cell_type": "code",
   "execution_count": 29,
   "id": "deef0072",
   "metadata": {},
   "outputs": [
    {
     "data": {
      "text/html": [
       "<div>\n",
       "<style scoped>\n",
       "    .dataframe tbody tr th:only-of-type {\n",
       "        vertical-align: middle;\n",
       "    }\n",
       "\n",
       "    .dataframe tbody tr th {\n",
       "        vertical-align: top;\n",
       "    }\n",
       "\n",
       "    .dataframe thead th {\n",
       "        text-align: right;\n",
       "    }\n",
       "</style>\n",
       "<table border=\"1\" class=\"dataframe\">\n",
       "  <thead>\n",
       "    <tr style=\"text-align: right;\">\n",
       "      <th></th>\n",
       "      <th>value</th>\n",
       "    </tr>\n",
       "  </thead>\n",
       "  <tbody>\n",
       "    <tr>\n",
       "      <th>count</th>\n",
       "      <td>353.000000</td>\n",
       "    </tr>\n",
       "    <tr>\n",
       "      <th>mean</th>\n",
       "      <td>21839.537677</td>\n",
       "    </tr>\n",
       "    <tr>\n",
       "      <th>std</th>\n",
       "      <td>4040.851138</td>\n",
       "    </tr>\n",
       "    <tr>\n",
       "      <th>min</th>\n",
       "      <td>15470.500000</td>\n",
       "    </tr>\n",
       "    <tr>\n",
       "      <th>25%</th>\n",
       "      <td>18937.300000</td>\n",
       "    </tr>\n",
       "    <tr>\n",
       "      <th>50%</th>\n",
       "      <td>20957.000000</td>\n",
       "    </tr>\n",
       "    <tr>\n",
       "      <th>75%</th>\n",
       "      <td>24210.800000</td>\n",
       "    </tr>\n",
       "    <tr>\n",
       "      <th>max</th>\n",
       "      <td>31183.700000</td>\n",
       "    </tr>\n",
       "  </tbody>\n",
       "</table>\n",
       "</div>"
      ],
      "text/plain": [
       "              value\n",
       "count    353.000000\n",
       "mean   21839.537677\n",
       "std     4040.851138\n",
       "min    15470.500000\n",
       "25%    18937.300000\n",
       "50%    20957.000000\n",
       "75%    24210.800000\n",
       "max    31183.700000"
      ]
     },
     "execution_count": 29,
     "metadata": {},
     "output_type": "execute_result"
    }
   ],
   "source": [
    "df.describe()"
   ]
  },
  {
   "cell_type": "code",
   "execution_count": 6,
   "id": "d579e8fc",
   "metadata": {},
   "outputs": [
    {
     "data": {
      "text/plain": [
       "731     31183.7\n",
       "732     29328.6\n",
       "733     29572.8\n",
       "734     29255.0\n",
       "735     29450.1\n",
       "         ...   \n",
       "1091    26338.0\n",
       "1092    26554.8\n",
       "1093    26788.7\n",
       "1094    27550.0\n",
       "1095    27559.8\n",
       "Name: value, Length: 365, dtype: float64"
      ]
     },
     "execution_count": 6,
     "metadata": {},
     "output_type": "execute_result"
    }
   ],
   "source": [
    "df.value"
   ]
  },
  {
   "cell_type": "markdown",
   "id": "0ab58a96",
   "metadata": {},
   "source": [
    "# Заполнение пропусков"
   ]
  },
  {
   "cell_type": "code",
   "execution_count": 30,
   "id": "ce8adc2a",
   "metadata": {},
   "outputs": [
    {
     "data": {
      "text/plain": [
       "date      0\n",
       "value    12\n",
       "dtype: int64"
      ]
     },
     "execution_count": 30,
     "metadata": {},
     "output_type": "execute_result"
    }
   ],
   "source": [
    "df.isnull().sum()"
   ]
  },
  {
   "cell_type": "code",
   "execution_count": 31,
   "id": "bb8a526d",
   "metadata": {},
   "outputs": [
    {
     "data": {
      "text/html": [
       "<div>\n",
       "<style scoped>\n",
       "    .dataframe tbody tr th:only-of-type {\n",
       "        vertical-align: middle;\n",
       "    }\n",
       "\n",
       "    .dataframe tbody tr th {\n",
       "        vertical-align: top;\n",
       "    }\n",
       "\n",
       "    .dataframe thead th {\n",
       "        text-align: right;\n",
       "    }\n",
       "</style>\n",
       "<table border=\"1\" class=\"dataframe\">\n",
       "  <thead>\n",
       "    <tr style=\"text-align: right;\">\n",
       "      <th></th>\n",
       "      <th>date</th>\n",
       "      <th>value</th>\n",
       "    </tr>\n",
       "  </thead>\n",
       "  <tbody>\n",
       "    <tr>\n",
       "      <th>731</th>\n",
       "      <td>2022-05-31</td>\n",
       "      <td>31183.7</td>\n",
       "    </tr>\n",
       "    <tr>\n",
       "      <th>732</th>\n",
       "      <td>2022-06-01</td>\n",
       "      <td>29328.6</td>\n",
       "    </tr>\n",
       "    <tr>\n",
       "      <th>733</th>\n",
       "      <td>2022-06-02</td>\n",
       "      <td>29572.8</td>\n",
       "    </tr>\n",
       "    <tr>\n",
       "      <th>734</th>\n",
       "      <td>2022-06-03</td>\n",
       "      <td>29255.0</td>\n",
       "    </tr>\n",
       "    <tr>\n",
       "      <th>735</th>\n",
       "      <td>2022-06-04</td>\n",
       "      <td>29450.1</td>\n",
       "    </tr>\n",
       "    <tr>\n",
       "      <th>...</th>\n",
       "      <td>...</td>\n",
       "      <td>...</td>\n",
       "    </tr>\n",
       "    <tr>\n",
       "      <th>1091</th>\n",
       "      <td>2023-05-26</td>\n",
       "      <td>26338.0</td>\n",
       "    </tr>\n",
       "    <tr>\n",
       "      <th>1092</th>\n",
       "      <td>2023-05-27</td>\n",
       "      <td>26554.8</td>\n",
       "    </tr>\n",
       "    <tr>\n",
       "      <th>1093</th>\n",
       "      <td>2023-05-28</td>\n",
       "      <td>26788.7</td>\n",
       "    </tr>\n",
       "    <tr>\n",
       "      <th>1094</th>\n",
       "      <td>2023-05-29</td>\n",
       "      <td>27550.0</td>\n",
       "    </tr>\n",
       "    <tr>\n",
       "      <th>1095</th>\n",
       "      <td>2023-05-30</td>\n",
       "      <td>27559.8</td>\n",
       "    </tr>\n",
       "  </tbody>\n",
       "</table>\n",
       "<p>365 rows × 2 columns</p>\n",
       "</div>"
      ],
      "text/plain": [
       "           date    value\n",
       "731  2022-05-31  31183.7\n",
       "732  2022-06-01  29328.6\n",
       "733  2022-06-02  29572.8\n",
       "734  2022-06-03  29255.0\n",
       "735  2022-06-04  29450.1\n",
       "...         ...      ...\n",
       "1091 2023-05-26  26338.0\n",
       "1092 2023-05-27  26554.8\n",
       "1093 2023-05-28  26788.7\n",
       "1094 2023-05-29  27550.0\n",
       "1095 2023-05-30  27559.8\n",
       "\n",
       "[365 rows x 2 columns]"
      ]
     },
     "execution_count": 31,
     "metadata": {},
     "output_type": "execute_result"
    }
   ],
   "source": [
    "df0 = df.fillna(0) #заполнение нулями\n",
    "df0"
   ]
  },
  {
   "cell_type": "code",
   "execution_count": 33,
   "id": "fef0c7bb",
   "metadata": {},
   "outputs": [
    {
     "data": {
      "text/plain": [
       "[<matplotlib.lines.Line2D at 0x7f837dba9b80>]"
      ]
     },
     "execution_count": 33,
     "metadata": {},
     "output_type": "execute_result"
    },
    {
     "data": {
      "image/png": "[encoded data removed]",
      "text/plain": [
       "<Figure size 432x288 with 1 Axes>"
      ]
     },
     "metadata": {
      "needs_background": "light"
     },
     "output_type": "display_data"
    }
   ],
   "source": [
    "plt.plot(df0['value'])"
   ]
  },
  {
   "cell_type": "code",
   "execution_count": 36,
   "id": "58e69944",
   "metadata": {},
   "outputs": [],
   "source": [
    "from sklearn.impute import SimpleImputer\n",
    "\n",
    "#imputer = SimpleImputer (strategy= 'mean')\n",
    "#imputer = SimpleImputer (strategy= 'median')\n",
    "imputer = SimpleImputer (strategy= 'most_frequent') \n",
    "\n",
    "df.value = imputer.fit_transform(df['value'].values.reshape(-1,1))"
   ]
  },
  {
   "cell_type": "markdown",
   "id": "b2232d04",
   "metadata": {},
   "source": [
    "заполняем пропуски подборм значений, которые часто посторяются"
   ]
  },
  {
   "cell_type": "code",
   "execution_count": 37,
   "id": "23b2bd53",
   "metadata": {},
   "outputs": [
    {
     "data": {
      "text/plain": [
       "[<matplotlib.lines.Line2D at 0x7f837dc943a0>]"
      ]
     },
     "execution_count": 37,
     "metadata": {},
     "output_type": "execute_result"
    },
    {
     "data": {
      "image/png": "[encoded data removed]",
      "text/plain": [
       "<Figure size 432x288 with 1 Axes>"
      ]
     },
     "metadata": {
      "needs_background": "light"
     },
     "output_type": "display_data"
    }
   ],
   "source": [
    "plt.plot(df['value'])"
   ]
  },
  {
   "cell_type": "code",
   "execution_count": 82,
   "id": "3f102cb2",
   "metadata": {},
   "outputs": [
    {
     "data": {
      "text/plain": [
       "date     0\n",
       "value    0\n",
       "dtype: int64"
      ]
     },
     "execution_count": 82,
     "metadata": {},
     "output_type": "execute_result"
    }
   ],
   "source": [
    "df.isnull().sum()"
   ]
  },
  {
   "cell_type": "markdown",
   "id": "f50e5689",
   "metadata": {},
   "source": [
    "# Проверка на стационарность"
   ]
  },
  {
   "cell_type": "code",
   "execution_count": 42,
   "id": "f22d1b3e",
   "metadata": {},
   "outputs": [
    {
     "data": {
      "text/plain": [
       "(-2.350782389104545,\n",
       " 0.15611203096604576,\n",
       " 3,\n",
       " 361,\n",
       " {'1%': -3.4485948978753314,\n",
       "  '5%': -2.86957971128312,\n",
       "  '10%': -2.571053050314224},\n",
       " 5998.233080206636)"
      ]
     },
     "execution_count": 42,
     "metadata": {},
     "output_type": "execute_result"
    }
   ],
   "source": [
    "adfuller(df['value']) "
   ]
  },
  {
   "cell_type": "markdown",
   "id": "9440d916",
   "metadata": {},
   "source": [
    "p-значение больше 0,05"
   ]
  },
  {
   "cell_type": "code",
   "execution_count": 38,
   "id": "47efca0b",
   "metadata": {},
   "outputs": [
    {
     "name": "stdout",
     "output_type": "stream",
     "text": [
      "<class 'pandas.core.frame.DataFrame'>\n",
      "Int64Index: 365 entries, 731 to 1095\n",
      "Data columns (total 2 columns):\n",
      " #   Column  Non-Null Count  Dtype         \n",
      "---  ------  --------------  -----         \n",
      " 0   date    365 non-null    datetime64[ns]\n",
      " 1   value   365 non-null    float64       \n",
      "dtypes: datetime64[ns](1), float64(1)\n",
      "memory usage: 8.6 KB\n"
     ]
    }
   ],
   "source": [
    "df.info()"
   ]
  },
  {
   "cell_type": "markdown",
   "id": "3c299fcd",
   "metadata": {},
   "source": [
    "# Работа с моделями"
   ]
  },
  {
   "cell_type": "code",
   "execution_count": 39,
   "id": "a3922f0b",
   "metadata": {},
   "outputs": [],
   "source": [
    "train_df = df[df.date < pd.to_datetime('2023-05-01')]\n",
    "test_df = df[df.date >= pd.to_datetime('2023-05-01')]"
   ]
  },
  {
   "cell_type": "code",
   "execution_count": 40,
   "id": "d4a4ad9d",
   "metadata": {},
   "outputs": [
    {
     "data": {
      "text/plain": [
       "(335, 2)"
      ]
     },
     "execution_count": 40,
     "metadata": {},
     "output_type": "execute_result"
    }
   ],
   "source": [
    "train_df.shape"
   ]
  },
  {
   "cell_type": "code",
   "execution_count": 41,
   "id": "e1ba6006",
   "metadata": {},
   "outputs": [
    {
     "data": {
      "text/plain": [
       "(30, 2)"
      ]
     },
     "execution_count": 41,
     "metadata": {},
     "output_type": "execute_result"
    }
   ],
   "source": [
    "test_df.shape"
   ]
  },
  {
   "cell_type": "code",
   "execution_count": 113,
   "id": "1d040325",
   "metadata": {},
   "outputs": [],
   "source": [
    "# Moving Avarage\n",
    "AR = AutoReg(train_df.value.values, lags=18)\n",
    "AR_model = AR.fit()"
   ]
  },
  {
   "cell_type": "code",
   "execution_count": 114,
   "id": "ce058124",
   "metadata": {},
   "outputs": [
    {
     "data": {
      "text/plain": [
       "array([28122.41069796, 29200.85906122, 28350.36074853, 28726.9020284 ,\n",
       "       28812.89994915, 28277.44474393, 26213.2413333 , 26457.02267215,\n",
       "       27904.31438613, 26881.65690213, 27233.57822575, 27777.22176266,\n",
       "       27516.9563602 , 27527.57905915, 27581.60820485, 27370.50892407,\n",
       "       27695.93525233, 27567.01403175, 27083.49011348, 26899.13011187,\n",
       "       27097.46058817, 26826.83144234, 26627.71150209, 26855.85469783,\n",
       "       26794.23566967, 26672.09837597, 26710.61844404, 26641.36788715,\n",
       "       26647.87500659, 26682.13647419])"
      ]
     },
     "execution_count": 114,
     "metadata": {},
     "output_type": "execute_result"
    }
   ],
   "source": [
    "AR_model.predict(start=len(train_df),\n",
    "                 end=len(train_df) + len(test_df)-1)"
   ]
  },
  {
   "cell_type": "code",
   "execution_count": 115,
   "id": "7f13a690",
   "metadata": {},
   "outputs": [],
   "source": [
    "test_df['AR_model_prediction'] = AR_model.predict(start =len(train_df),\n",
    "                                                  end= len(train_df) + len(test_df)-1)"
   ]
  },
  {
   "cell_type": "code",
   "execution_count": 116,
   "id": "123876af",
   "metadata": {},
   "outputs": [
    {
     "data": {
      "text/plain": [
       "[<matplotlib.lines.Line2D at 0x7f8360763d90>,\n",
       " <matplotlib.lines.Line2D at 0x7f8360763e80>]"
      ]
     },
     "execution_count": 116,
     "metadata": {},
     "output_type": "execute_result"
    },
    {
     "data": {
      "image/png": "[encoded data removed]",
      "text/plain": [
       "<Figure size 432x288 with 1 Axes>"
      ]
     },
     "metadata": {
      "needs_background": "light"
     },
     "output_type": "display_data"
    }
   ],
   "source": [
    "plt.plot(test_df[['value', 'AR_model_prediction']])"
   ]
  },
  {
   "cell_type": "code",
   "execution_count": 117,
   "id": "59b1307c",
   "metadata": {},
   "outputs": [
    {
     "name": "stdout",
     "output_type": "stream",
     "text": [
      "MAE MA_model:  643.9175173313918\n"
     ]
    }
   ],
   "source": [
    "from sklearn.metrics import mean_absolute_error\n",
    "\n",
    "print('MAE MA_model: ', mean_absolute_error(test_df['value'],\n",
    "                                            test_df['AR_model_prediction']))\n"
   ]
  },
  {
   "cell_type": "code",
   "execution_count": 118,
   "id": "5d1e5b84",
   "metadata": {},
   "outputs": [
    {
     "name": "stdout",
     "output_type": "stream",
     "text": [
      "RMSE MA_model:  838.7056085457026\n"
     ]
    }
   ],
   "source": [
    "from sklearn.metrics import mean_squared_error\n",
    "print('RMSE MA_model: ', mean_squared_error(test_df['value'],\n",
    "                                            test_df['AR_model_prediction'])**0.5)"
   ]
  },
  {
   "cell_type": "markdown",
   "id": "a5478c7c",
   "metadata": {},
   "source": [
    "# ARMA"
   ]
  },
  {
   "cell_type": "code",
   "execution_count": 163,
   "id": "73cf1e87",
   "metadata": {},
   "outputs": [],
   "source": [
    "from statsmodels.graphics.tsaplots import plot_pacf\n",
    "from statsmodels.graphics.tsaplots import plot_acf"
   ]
  },
  {
   "cell_type": "code",
   "execution_count": 175,
   "id": "ffba0523",
   "metadata": {},
   "outputs": [
    {
     "data": {
      "image/png": "[encoded data removed]",
      "text/plain": [
       "<Figure size 432x288 with 1 Axes>"
      ]
     },
     "execution_count": 175,
     "metadata": {},
     "output_type": "execute_result"
    },
    {
     "data": {
      "image/png": "[encoded data removed]",
      "text/plain": [
       "<Figure size 432x288 with 1 Axes>"
      ]
     },
     "metadata": {
      "needs_background": "light"
     },
     "output_type": "display_data"
    }
   ],
   "source": [
    "plot_pacf(df.value.diff().dropna()) #подбираем значение p"
   ]
  },
  {
   "cell_type": "markdown",
   "id": "c273843f",
   "metadata": {},
   "source": [
    "1 значительный выброс, поэтому p=1"
   ]
  },
  {
   "cell_type": "code",
   "execution_count": 174,
   "id": "16b5ec62",
   "metadata": {},
   "outputs": [
    {
     "data": {
      "image/png": "[encoded data removed]",
      "text/plain": [
       "<Figure size 432x288 with 1 Axes>"
      ]
     },
     "execution_count": 174,
     "metadata": {},
     "output_type": "execute_result"
    },
    {
     "data": {
      "image/png": "[encoded data removed]",
      "text/plain": [
       "<Figure size 432x288 with 1 Axes>"
      ]
     },
     "metadata": {
      "needs_background": "light"
     },
     "output_type": "display_data"
    }
   ],
   "source": [
    "plot_acf(df.value.diff().dropna()) #подбираем q"
   ]
  },
  {
   "cell_type": "markdown",
   "id": "97f283ff",
   "metadata": {},
   "source": [
    "q=2, потому что есть два выброса"
   ]
  },
  {
   "cell_type": "code",
   "execution_count": 172,
   "id": "d7d3bf08",
   "metadata": {},
   "outputs": [
    {
     "data": {
      "image/png": "[encoded data removed]",
      "text/plain": [
       "<Figure size 432x288 with 3 Axes>"
      ]
     },
     "metadata": {
      "needs_background": "light"
     },
     "output_type": "display_data"
    }
   ],
   "source": [
    "#подбираем d\n",
    "fig, (ax1, ax2, ax3) = plt.subplots(3)\n",
    "ax1.plot(df.value); ax1.set_title('Original Series'); ax1.axes.xaxis.set_visible(False)\n",
    "# 1st Differencing\n",
    "ax2.plot(df.value.diff()); ax2.set_title('1st Order Differencing'); ax2.axes.xaxis.set_visible(False)\n",
    "# 2nd Differencing\n",
    "ax3.plot(df.value.diff().diff()); ax3.set_title('2nd Order Differencing')\n",
    "plt.show()"
   ]
  },
  {
   "cell_type": "code",
   "execution_count": 182,
   "id": "cad893ba",
   "metadata": {},
   "outputs": [
    {
     "data": {
      "image/png": "[encoded data removed]",
      "text/plain": [
       "<Figure size 432x288 with 3 Axes>"
      ]
     },
     "execution_count": 182,
     "metadata": {},
     "output_type": "execute_result"
    },
    {
     "data": {
      "image/png": "[encoded data removed]",
      "text/plain": [
       "<Figure size 432x288 with 3 Axes>"
      ]
     },
     "metadata": {
      "needs_background": "light"
     },
     "output_type": "display_data"
    }
   ],
   "source": [
    "from statsmodels.graphics.tsaplots import plot_acf\n",
    "fig, (ax1, ax2, ax3) = plt.subplots(3)\n",
    "plot_acf(df.value, ax=ax1)\n",
    "plot_acf(df.value.diff().dropna(), ax=ax2)\n",
    "plot_acf(df.value.diff().diff().dropna(), ax=ax3)"
   ]
  },
  {
   "cell_type": "markdown",
   "id": "d84565dc",
   "metadata": {},
   "source": [
    "как будто d=1, но с таким значением метрики получаются хуже, поэтому я решила оставить ноль"
   ]
  },
  {
   "cell_type": "code",
   "execution_count": 192,
   "id": "1449c7cc",
   "metadata": {},
   "outputs": [],
   "source": [
    "ARMA = ARIMA(train_df.value.values, order=(1,0,2))\n",
    "ARMA_model = ARMA.fit()"
   ]
  },
  {
   "cell_type": "code",
   "execution_count": 193,
   "id": "9c1fad32",
   "metadata": {},
   "outputs": [],
   "source": [
    "test_df['ARMA_model_prediction'] = ARMA_model.predict(\n",
    "    start=len(train_df), end=len(train_df) + len(test_df)-1)"
   ]
  },
  {
   "cell_type": "code",
   "execution_count": 194,
   "id": "8def563a",
   "metadata": {},
   "outputs": [
    {
     "name": "stdout",
     "output_type": "stream",
     "text": [
      "MAE MA_model:  562.90495992999 RMSE MA_model:  728.089327770143\n"
     ]
    }
   ],
   "source": [
    "print('MAE MA_model: ', mean_absolute_error(test_df['value'],\n",
    "                                            test_df['ARMA_model_prediction']),\n",
    "     'RMSE MA_model: ', mean_squared_error(test_df['value'],\n",
    "                                            test_df['ARMA_model_prediction'])**0.5)"
   ]
  },
  {
   "cell_type": "markdown",
   "id": "6cc4e0bc",
   "metadata": {},
   "source": [
    "# ARIMA"
   ]
  },
  {
   "cell_type": "code",
   "execution_count": 208,
   "id": "bf9e6b58",
   "metadata": {},
   "outputs": [],
   "source": [
    "ARIMA_ = ARIMA(train_df.value.values, order=(2,0,5))\n",
    "ARIMA_model = ARIMA_.fit()"
   ]
  },
  {
   "cell_type": "code",
   "execution_count": 209,
   "id": "49cf4be0",
   "metadata": {},
   "outputs": [
    {
     "data": {
      "text/plain": [
       "array([28214.20879624, 28525.631493  , 28030.96151886, 28167.17506842,\n",
       "       27852.40253626, 27895.06017617, 27665.02508811, 27648.84889647,\n",
       "       27470.74193722, 27420.85102378, 27275.06019471, 27206.38932589,\n",
       "       27081.17444987, 27002.58637993, 26890.90315699, 26807.64099496,\n",
       "       26705.24695849, 26620.39660619, 26524.72155064, 26440.08379137,\n",
       "       26349.55609923, 26266.16662931, 26179.81147809, 26098.25098824,\n",
       "       26015.45069629, 25936.02974925, 25856.38081565, 25779.25005904,\n",
       "       25702.47786891, 25627.69372259])"
      ]
     },
     "execution_count": 209,
     "metadata": {},
     "output_type": "execute_result"
    }
   ],
   "source": [
    "ARIMA_model.predict(start=len(train_df),\n",
    "                    end=len(train_df) + len(test_df)-1)"
   ]
  },
  {
   "cell_type": "code",
   "execution_count": 210,
   "id": "08e7929d",
   "metadata": {},
   "outputs": [],
   "source": [
    "test_df['ARIMA_model_prediction'] = ARIMA_model.predict(\n",
    "    start=len(train_df), end=len(train_df) + len(test_df)-1)"
   ]
  },
  {
   "cell_type": "code",
   "execution_count": 211,
   "id": "cc8fc3e8",
   "metadata": {},
   "outputs": [
    {
     "name": "stdout",
     "output_type": "stream",
     "text": [
      "MAE MA_model:  542.1767918813101 RMSE MA_model:  719.6081694177843\n"
     ]
    }
   ],
   "source": [
    "print('MAE MA_model: ', mean_absolute_error(test_df['value'],\n",
    "                                            test_df['ARIMA_model_prediction']),\n",
    "     'RMSE MA_model: ', mean_squared_error(test_df['value'],\n",
    "                                            test_df['ARIMA_model_prediction'])**0.5)"
   ]
  },
  {
   "cell_type": "markdown",
   "id": "08e364b6",
   "metadata": {},
   "source": [
    "нужно добиться результата чтобы RMSE<=1500\n",
    "\n",
    "все по этапам\n",
    "- посмотреть на пропуски и заполнить их разными способами (на графике можно визуально проверить какой вариант будет лучше, тк не все методы тут хорошо подойдут, плюс по метрикам будет тоже видно)\n",
    "- проверка временного ряда на стационарность\n",
    "- выбор модели, тюнинг (различные параметры p,d,q, также можно попробовать модель с сезонностью)\n",
    "\n",
    "помимо моделей из лекции можно использовать lstm, prophet, бустинги (если будет желание)\n",
    "\n",
    "у меня получилось RMSE в одной из модели ±1000\n",
    "\n",
    "если RMSE<=1500  это 100 баллов\n",
    "за каждые 10% от 1500 будут хуже баллы\n",
    "\n",
    "rmse 1750 - баллов будет 90\n",
    "rmse 1900 - баллов будет 80\n",
    "и тд\n",
    "\n",
    "надеюсь понятно объяснил)\n",
    "\n",
    "решения можете присылать отчетом со ссылкой на гит с кодом"
   ]
  },
  {
   "cell_type": "code",
   "execution_count": null,
   "id": "4c6e81dc",
   "metadata": {},
   "outputs": [],
   "source": []
  }
 ],
 "metadata": {
  "kernelspec": {
   "display_name": "Python 3",
   "language": "python",
   "name": "python3"
  },
  "language_info": {
   "codemirror_mode": {
    "name": "ipython",
    "version": 3
   },
   "file_extension": ".py",
   "mimetype": "text/x-python",
   "name": "python",
   "nbconvert_exporter": "python",
   "pygments_lexer": "ipython3",
   "version": "3.8.8"
  }
 },
 "nbformat": 4,
 "nbformat_minor": 5
}
